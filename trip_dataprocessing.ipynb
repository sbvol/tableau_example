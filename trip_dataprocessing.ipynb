{
 "cells": [
  {
   "cell_type": "markdown",
   "metadata": {},
   "source": [
    "# Load dependencies"
   ]
  },
  {
   "cell_type": "code",
   "execution_count": 3,
   "metadata": {
    "collapsed": true
   },
   "outputs": [],
   "source": [
    "import pandas as pd"
   ]
  },
  {
   "cell_type": "markdown",
   "metadata": {},
   "source": [
    "# Process 2017 Data"
   ]
  },
  {
   "cell_type": "code",
   "execution_count": 111,
   "metadata": {
    "collapsed": true
   },
   "outputs": [],
   "source": [
    "columns = ['trip_duration',\\\n",
    "           'start_time',\\\n",
    "           'stop _time',\\\n",
    "           'start_station_ID',\\\n",
    "           'start_station_name',\\\n",
    "           'start_station_latitude',\\\n",
    "           'start_station_longitude',\\\n",
    "           'end_station_ID',\\\n",
    "           'end_station_name',\\\n",
    "           'end_station_latitude',\\\n",
    "           'end_station_longitude',\\\n",
    "           'bike_ID',\\\n",
    "           'user_type',\\\n",
    "           'birth_year',\\\n",
    "           'gender']"
   ]
  },
  {
   "cell_type": "code",
   "execution_count": 112,
   "metadata": {
    "collapsed": true
   },
   "outputs": [],
   "source": [
    "df1 = pd.read_csv('datafiles/201701-citibike.csv', names=columns, header=0)\n",
    "df2 = pd.read_csv('datafiles/201702-citibike.csv', names=columns, header=0)\n",
    "df3 = pd.read_csv('datafiles/201703-citibike.csv', names=columns, header=0)\n",
    "df4 = pd.read_csv('datafiles/201704-citibike.csv', names=columns, header=0)\n",
    "df5 = pd.read_csv('datafiles/201705-citibike.csv', names=columns, header=0)\n",
    "df6 = pd.read_csv('datafiles/201706-citibike.csv', names=columns, header=0)\n",
    "df7 = pd.read_csv('datafiles/201707-citibike.csv', names=columns, header=0)\n",
    "df8 = pd.read_csv('datafiles/201708-citibike.csv', names=columns, header=0)\n",
    "df9 = pd.read_csv('datafiles/201709-citibike.csv', names=columns, header=0)\n",
    "df10 = pd.read_csv('datafiles/201710-citibike.csv', names=columns, header=0)\n",
    "df11 = pd.read_csv('datafiles/201711-citibike.csv', names=columns, header=0)\n",
    "df12 = pd.read_csv('datafiles/201712-citibike.csv', names=columns, header=0)"
   ]
  },
  {
   "cell_type": "code",
   "execution_count": 113,
   "metadata": {
    "collapsed": true
   },
   "outputs": [],
   "source": [
    "# Drop all NaN values from the dataframes\n",
    "df1 = df1.dropna()\n",
    "df2 = df2.dropna()\n",
    "df3 = df3.dropna()\n",
    "df4 = df4.dropna()\n",
    "df5 = df5.dropna()\n",
    "df6 = df6.dropna()\n",
    "df7 = df7.dropna()\n",
    "df8 = df8.dropna()\n",
    "df9 = df9.dropna()\n",
    "df10 = df10.dropna()\n",
    "df11 = df11.dropna()\n",
    "df12 = df12.dropna()"
   ]
  },
  {
   "cell_type": "code",
   "execution_count": 114,
   "metadata": {
    "collapsed": true
   },
   "outputs": [],
   "source": [
    "frames = [df1, df2, df3, df4, df5, df6, df7, df8, df9, df10, df11, df12]"
   ]
  },
  {
   "cell_type": "code",
   "execution_count": 126,
   "metadata": {
    "collapsed": true
   },
   "outputs": [],
   "source": [
    "# Use concat to merge all dataframes on the row level\n",
    "result_2017 = pd.concat(frames, axis=0)"
   ]
  },
  {
   "cell_type": "code",
   "execution_count": 128,
   "metadata": {
    "collapsed": true
   },
   "outputs": [],
   "source": [
    "result_2017.to_csv('results_2017.csv')"
   ]
  },
  {
   "cell_type": "markdown",
   "metadata": {
    "collapsed": true
   },
   "source": [
    "# Process 2016 Data"
   ]
  },
  {
   "cell_type": "code",
   "execution_count": 7,
   "metadata": {
    "collapsed": true
   },
   "outputs": [],
   "source": [
    "columns = ['trip_duration',\\\n",
    "           'start_time',\\\n",
    "           'stop _time',\\\n",
    "           'start_station_ID',\\\n",
    "           'start_station_name',\\\n",
    "           'start_station_latitude',\\\n",
    "           'start_station_longitude',\\\n",
    "           'end_station_ID',\\\n",
    "           'end_station_name',\\\n",
    "           'end_station_latitude',\\\n",
    "           'end_station_longitude',\\\n",
    "           'bike_ID',\\\n",
    "           'user_type',\\\n",
    "           'birth_year',\\\n",
    "           'gender']"
   ]
  },
  {
   "cell_type": "code",
   "execution_count": 11,
   "metadata": {
    "collapsed": true
   },
   "outputs": [],
   "source": [
    "df1 = pd.read_csv('datafiles/2016-01-citibike.csv', names=columns, header=0)\n",
    "df2 = pd.read_csv('datafiles/2016-02-citibike.csv', names=columns, header=0)\n",
    "df3 = pd.read_csv('datafiles/2016-03-citibike.csv', names=columns, header=0)\n",
    "df4 = pd.read_csv('datafiles/2016-04-citibike.csv', names=columns, header=0)\n",
    "df5 = pd.read_csv('datafiles/2016-05-citibike.csv', names=columns, header=0)\n",
    "df6 = pd.read_csv('datafiles/2016-06-citibike.csv', names=columns, header=0)\n",
    "df7 = pd.read_csv('datafiles/2016-07-citibike.csv', names=columns, header=0)\n",
    "df8 = pd.read_csv('datafiles/2016-08-citibike.csv', names=columns, header=0)\n",
    "df9 = pd.read_csv('datafiles/2016-09-citibike.csv', names=columns, header=0)\n",
    "df10 = pd.read_csv('datafiles/2016-10-citibike.csv', names=columns, header=0)\n",
    "df11 = pd.read_csv('datafiles/2016-11-citibike.csv', names=columns, header=0)\n",
    "df12 = pd.read_csv('datafiles/2016-12-citibike.csv', names=columns, header=0)"
   ]
  },
  {
   "cell_type": "code",
   "execution_count": 25,
   "metadata": {
    "collapsed": true
   },
   "outputs": [],
   "source": [
    "df1 = df1.dropna()\n",
    "df2 = df2.dropna()\n",
    "df3 = df3.dropna()\n",
    "df3 = df4.dropna()\n",
    "df4 = df5.dropna()\n",
    "df5 = df6.dropna()\n",
    "df6 = df7.dropna()\n",
    "df7 = df8.dropna()\n",
    "df8 = df9.dropna()\n",
    "df9 = df10.dropna()\n",
    "df10 = df11.dropna()\n",
    "df11 = df11.dropna()\n",
    "df12 = df12.dropna()"
   ]
  },
  {
   "cell_type": "code",
   "execution_count": 26,
   "metadata": {},
   "outputs": [
    {
     "data": {
      "text/plain": [
       "trip_duration              531048\n",
       "start_time                 531048\n",
       "stop _time                 531048\n",
       "start_station_ID           531048\n",
       "start_station_name         531048\n",
       "start_station_latitude     531048\n",
       "start_station_longitude    531048\n",
       "end_station_ID             531048\n",
       "end_station_name           531048\n",
       "end_station_latitude       531048\n",
       "end_station_longitude      531048\n",
       "bike_ID                    531048\n",
       "user_type                  531048\n",
       "birth_year                 531048\n",
       "gender                     531048\n",
       "dtype: int64"
      ]
     },
     "execution_count": 26,
     "metadata": {},
     "output_type": "execute_result"
    }
   ],
   "source": [
    "df2.count()"
   ]
  },
  {
   "cell_type": "code",
   "execution_count": 27,
   "metadata": {
    "collapsed": true
   },
   "outputs": [],
   "source": [
    "frames = [df1, df2, df3, df4, df5, df6, df7, df8, df9, df10, df11, df12]"
   ]
  },
  {
   "cell_type": "code",
   "execution_count": 28,
   "metadata": {
    "collapsed": true
   },
   "outputs": [],
   "source": [
    "# Use concat to merge all dataframes on the row level\n",
    "result_2016 = pd.concat(frames, axis=0)"
   ]
  },
  {
   "cell_type": "code",
   "execution_count": null,
   "metadata": {
    "collapsed": true
   },
   "outputs": [],
   "source": []
  },
  {
   "cell_type": "code",
   "execution_count": 18,
   "metadata": {
    "collapsed": true
   },
   "outputs": [],
   "source": [
    "result_2016.to_csv('results_2016.csv')"
   ]
  },
  {
   "cell_type": "code",
   "execution_count": null,
   "metadata": {
    "collapsed": true
   },
   "outputs": [],
   "source": []
  }
 ],
 "metadata": {
  "kernelspec": {
   "display_name": "Python 3",
   "language": "python",
   "name": "python3"
  },
  "language_info": {
   "codemirror_mode": {
    "name": "ipython",
    "version": 3
   },
   "file_extension": ".py",
   "mimetype": "text/x-python",
   "name": "python",
   "nbconvert_exporter": "python",
   "pygments_lexer": "ipython3",
   "version": "3.6.3"
  }
 },
 "nbformat": 4,
 "nbformat_minor": 2
}
